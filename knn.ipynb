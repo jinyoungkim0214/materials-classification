{
  "cells": [
    {
      "cell_type": "markdown",
      "metadata": {
        "id": "view-in-github",
        "colab_type": "text"
      },
      "source": [
        "<a href=\"https://colab.research.google.com/github/jinyoungkim0214/portfolio/blob/main/knn.ipynb\" target=\"_parent\"><img src=\"https://colab.research.google.com/assets/colab-badge.svg\" alt=\"Open In Colab\"/></a>"
      ]
    },
    {
      "cell_type": "markdown",
      "metadata": {
        "id": "f7MWUDI2IBYW"
      },
      "source": [
        "## Colab Setup"
      ]
    },
    {
      "cell_type": "code",
      "execution_count": null,
      "metadata": {
        "colab": {
          "base_uri": "https://localhost:8080/"
        },
        "id": "JsEbh_t58ZJo",
        "outputId": "83b202e6-1786-4b08-d875-155198241701"
      },
      "outputs": [
        {
          "name": "stdout",
          "output_type": "stream",
          "text": [
            "Mounted at /content/drive\n"
          ]
        }
      ],
      "source": [
        "from google.colab import drive\n",
        "drive.mount('/content/drive')"
      ]
    },
    {
      "cell_type": "code",
      "execution_count": null,
      "metadata": {
        "colab": {
          "base_uri": "https://localhost:8080/"
        },
        "id": "_GXMM3Js7hII",
        "outputId": "6fcefbef-163f-46f9-ac9f-0d9f3b112ad2"
      },
      "outputs": [
        {
          "name": "stdout",
          "output_type": "stream",
          "text": [
            "/content/drive/MyDrive/Homework 1-1\n"
          ]
        }
      ],
      "source": [
        "\"\"\"\n",
        "Change directory to where this file is located\n",
        "\"\"\"\n",
        "%cd /content/drive/MyDrive/Homework 1-1"
      ]
    },
    {
      "cell_type": "markdown",
      "metadata": {
        "id": "rR3VeoqMIFbq"
      },
      "source": [
        "## Import Modules"
      ]
    },
    {
      "cell_type": "code",
      "execution_count": null,
      "metadata": {
        "id": "JAC2qQEy7rM8"
      },
      "outputs": [],
      "source": [
        "import numpy as np\n",
        "import matplotlib.pyplot as plt\n",
        "from mnist.data_utils import load_data"
      ]
    },
    {
      "cell_type": "markdown",
      "metadata": {
        "id": "jMw488CqIOhm"
      },
      "source": [
        "## K-Nearest Neighbor Implementation"
      ]
    },
    {
      "cell_type": "code",
      "execution_count": null,
      "metadata": {
        "id": "zpsV2Bb3r3s4"
      },
      "outputs": [],
      "source": [
        "class KNN:\n",
        "    \"\"\" k-nearest neighbor classifier class \"\"\"\n",
        "    def train(self, X, y):\n",
        "        \"\"\"\n",
        "        Trains the classifier using the given training data (X, y).\n",
        "\n",
        "        Question (a)\n",
        "        - Recall that for k-nearest neighbors this is just memorizing the training data.\n",
        "\n",
        "        Inputs\n",
        "        - X: A numpy array of shape (N, D), where N is the number of data points,\n",
        "            D is the dimensionality of each data point.\n",
        "        - y: A numpy array of shape (N,) containing the training labels, where\n",
        "            y[i] is the label for X[i]. With C classes, each y[i] is an integer\n",
        "            from 0 to C-1.\n",
        "        \"\"\"\n",
        "        self.X_train = X\n",
        "        self.y_train = y\n",
        "\n",
        "    def inference(self, X_test, k=1, dist_metric='l2'):\n",
        "        \"\"\"\n",
        "        For each test example in X, this method predicts its label by majority vote\n",
        "        from the k nearest training samples. It returns the predicted labels.\n",
        "\n",
        "        Do NOT Modify this method.\n",
        "\n",
        "        Inputs\n",
        "        - X_test: A numpy array of shape (N, D), where N is the number of test data points,\n",
        "            D is the dimensionality of each data point.\n",
        "        - X_train: A numpy array of shape (M, D), where M is the number of training data points,\n",
        "            D is the dimensionality of each data point.\n",
        "        - k: The number of neighbors to participate in voting.\n",
        "            dist_metric: Determines the distance metric to use.\n",
        "        Returns\n",
        "        - y_pred: A numpy array of shape (N,) containing predicted labels for the test data X,\n",
        "            where y_pred[i] is the predicted label for the test point X[i].\n",
        "        \"\"\"\n",
        "        dists = self.compute_distance(X_test, dist_metric)\n",
        "        y_pred = self.predict_labels(X_test, dists, k)\n",
        "        return y_pred\n",
        "\n",
        "    def compute_distance(self, X_test, dist_metric):\n",
        "        \"\"\"\n",
        "        Computes the distance between the training data and test data using the given dist_metric.\n",
        "\n",
        "        Question (b)\n",
        "        - comlete the if and elif statements.\n",
        "        - hint: you can use np.linalg.norm to normalize data for cosine similarity.\n",
        "        - hint: you can use np.repeat and np.tile to vectorize L2 distance computation.\n",
        "\n",
        "        Inputs\n",
        "        - X_test: A numpy array of shape (N, D), where N is the number of test data points,\n",
        "            D is the dimensionality of each data point.\n",
        "        - X_train: A numpy array of shape (M, D), where M is the number of training data points,\n",
        "            D is the dimensionality of each data point.\n",
        "        - dist_metric: Determines the distance metric to use.\n",
        "        Returns\n",
        "        - dists: A numpy array of shape (N, M) where N is the number of test data points,\n",
        "            and M is the number of traininig data points, containing distances between\n",
        "            each pair of test and train data points based on the given distance metric.\n",
        "        \"\"\"\n",
        "        if dist_metric=='dot':\n",
        "          # your code here\n",
        "          dists = np.dot(X_test, self.X_train.T)\n",
        "\n",
        "        elif dist_metric=='cos':\n",
        "          # your code here\n",
        "          X_test_norm = np.linalg.norm(X_test, axis=1, keepdims=True)\n",
        "          X_train_norm = np.linalg.norm(self.X_train, axis=1, keepdims=True)\n",
        "          dists = np.dot(X_test, self.X_train.T) / (X_test_norm*X_train_norm.T)\n",
        "\n",
        "        elif dist_metric=='l2':\n",
        "          # your code here\n",
        "          X_test_squared = np.sum(np.square(X_test), axis=1, keepdims=True)\n",
        "          X_train_squared = np.sum(np.square(self.X_train), axis=1, keepdims=True)\n",
        "          cross_term = -2 * np.dot(X_test, self.X_train.T)\n",
        "          X_test_squared_exp = np.repeat(X_test_squared, self.X_train.shape[0], axis=1)\n",
        "          X_train_squared_exp = np.tile(X_train_squared.T, (X_test.shape[0], 1))\n",
        "          dists = np.sqrt(X_test_squared_exp + cross_term + X_train_squared_exp)\n",
        "\n",
        "        return dists\n",
        "\n",
        "    def predict_labels(self, X_test, dists, k):\n",
        "        \"\"\"\n",
        "        For the given test image, this method takes a majority vote from k closest points\n",
        "        to predict the class of the test image.\n",
        "\n",
        "        Question (c)\n",
        "\n",
        "        Inputs\n",
        "        - X_test: A numpy array of shape (N, D), where N is the number of test data points,\n",
        "            D is the dimensionality of each data point.\n",
        "        - dists: A numpy array of shape (N, M) where N is the number of test data points,\n",
        "            and M is the number of traininig data points, containing distances between\n",
        "            each pair of test and train data points based on the given distance metric.\n",
        "        - k: The number of neighbors to participate in voting.\n",
        "        Returns\n",
        "        - y_pred: A numpy array of shape (N,) containing predicted labels for the test data X,\n",
        "            where y_pred[i] is the predicted label for the test point X[i].\n",
        "        \"\"\"\n",
        "        num_test = dists.shape[0]\n",
        "        y_pred = np.zeros(num_test, dtype=int)\n",
        "        for i in range(num_test):\n",
        "            closest_y = []\n",
        "            sorted_indices = np.argsort(dists[i])\n",
        "            closest_y = self.y_train[sorted_indices[:k]]\n",
        "            y_pred[i] = np.argmax(np.bincount(closest_y.ravel()))\n",
        "        return y_pred\n",
        "\n",
        "    def evaluate(self, y, y_hat):\n",
        "        \"\"\"\n",
        "        Compares the predicted labels to the ground truth y, and prints the\n",
        "        classification accuracy.\n",
        "\n",
        "        Do NOT Modify this method.\n",
        "\n",
        "        Inputs\n",
        "        - y: A numpy array of shape (N,) containing the ground truth labels, where\n",
        "            N is the number of test examples. With C classes, each y[i] is an integer\n",
        "            from 0 to C-1.\n",
        "        - y_hat: A numpy array of shape (N,) containing the predicted labels, where\n",
        "            N is the number of test examples. With C classes, each y_pred[i] is\n",
        "            an integer from 0 to C-1.\n",
        "        Returns:\n",
        "        - accuracy\n",
        "        \"\"\"\n",
        "        y_hat = np.expand_dims(y_hat, axis=1)\n",
        "        num_correct = np.sum(y_hat == y)\n",
        "        accuracy = float(num_correct) / y.shape[0]\n",
        "        return accuracy"
      ]
    },
    {
      "cell_type": "markdown",
      "metadata": {
        "id": "yvwolO5qHzXl"
      },
      "source": [
        "## Data Loading"
      ]
    },
    {
      "cell_type": "code",
      "execution_count": null,
      "metadata": {
        "id": "zR9dOpGX_0iz"
      },
      "outputs": [],
      "source": [
        "def sample_data(X, y, count):\n",
        "    mask = np.random.choice(X.shape[0], count, replace=False)\n",
        "    X_sampled = X[mask]\n",
        "    y_sampled = y[mask]\n",
        "    return X_sampled, y_sampled"
      ]
    },
    {
      "cell_type": "code",
      "execution_count": null,
      "metadata": {
        "colab": {
          "base_uri": "https://localhost:8080/"
        },
        "id": "UOzrdgGSHVXF",
        "outputId": "d6c7e416-a19b-44ae-a356-e45b8a7785a8"
      },
      "outputs": [
        {
          "name": "stdout",
          "output_type": "stream",
          "text": [
            "MNIST data loaded:\n",
            "Training data shape: (60000, 784)\n",
            "Training labels shape: (60000, 1)\n",
            "Test data shape: (10000, 784)\n",
            "Test labels shape: (10000, 1)\n"
          ]
        }
      ],
      "source": [
        "num_train_data = 1000\n",
        "num_test_data = 200\n",
        "\n",
        "X_train_src, y_train_src, X_test_src, y_test_src = load_data(one_hot_encoding=False) # Training data is flattened when it is loaded\n",
        "X_train, y_train = sample_data(X_train_src, y_train_src, num_train_data)\n",
        "X_test, y_test = sample_data(X_test_src, y_test_src, num_test_data)"
      ]
    },
    {
      "cell_type": "markdown",
      "metadata": {
        "id": "lZDHMwziIpja"
      },
      "source": [
        "## Model Training & Evaluation"
      ]
    },
    {
      "cell_type": "code",
      "execution_count": null,
      "metadata": {
        "id": "nfq-3_r4IsHB"
      },
      "outputs": [],
      "source": [
        "model = KNN()\n",
        "model.train(X_train, y_train)"
      ]
    },
    {
      "cell_type": "code",
      "execution_count": null,
      "metadata": {
        "colab": {
          "base_uri": "https://localhost:8080/"
        },
        "id": "fPmKakDuuc8b",
        "outputId": "6196d906-2149-41f9-9a6c-b6b317ecd97e"
      },
      "outputs": [
        {
          "name": "stdout",
          "output_type": "stream",
          "text": [
            "Accuarcy: 0.86\n"
          ]
        }
      ],
      "source": [
        "\"\"\"\n",
        "Model usage for test.\n",
        "\"\"\"\n",
        "K = 15\n",
        "y_pred = model.inference(X_test, k=K, dist_metric='l2')\n",
        "acc = model.evaluate(y_test, y_pred)\n",
        "print(\"Accuarcy:\", acc)"
      ]
    },
    {
      "cell_type": "markdown",
      "metadata": {
        "id": "_-IRMbqqRtmh"
      },
      "source": [
        "## Experiments"
      ]
    },
    {
      "cell_type": "code",
      "execution_count": null,
      "metadata": {
        "id": "r0IsD2pwgFxM"
      },
      "outputs": [],
      "source": [
        "# Modify the number of k's and metrics to try as you want\n",
        "num_ks = 50\n",
        "metrics = ['dot', 'cos', 'l2']"
      ]
    },
    {
      "cell_type": "code",
      "execution_count": null,
      "metadata": {
        "colab": {
          "base_uri": "https://localhost:8080/"
        },
        "id": "68AnUY2wSkMX",
        "outputId": "98ac4e7f-d311-438c-de65-74a3c530e34c"
      },
      "outputs": [
        {
          "name": "stdout",
          "output_type": "stream",
          "text": [
            "running KNN with dot distance metric\n",
            "    processing... k=  5\n",
            "    processing... k= 10\n",
            "    processing... k= 15\n",
            "    processing... k= 20\n",
            "    processing... k= 25\n",
            "    processing... k= 30\n",
            "    processing... k= 35\n",
            "    processing... k= 40\n",
            "    processing... k= 45\n",
            "    processing... k= 50\n",
            "\n",
            "running KNN with cos distance metric\n",
            "    processing... k=  5\n",
            "    processing... k= 10\n",
            "    processing... k= 15\n",
            "    processing... k= 20\n",
            "    processing... k= 25\n",
            "    processing... k= 30\n",
            "    processing... k= 35\n",
            "    processing... k= 40\n",
            "    processing... k= 45\n",
            "    processing... k= 50\n",
            "\n",
            "running KNN with l2 distance metric\n",
            "    processing... k=  5\n",
            "    processing... k= 10\n",
            "    processing... k= 15\n",
            "    processing... k= 20\n",
            "    processing... k= 25\n",
            "    processing... k= 30\n",
            "    processing... k= 35\n",
            "    processing... k= 40\n",
            "    processing... k= 45\n",
            "    processing... k= 50\n",
            "\n"
          ]
        }
      ],
      "source": [
        "# Run experiments\n",
        "print_k_interval = 5\n",
        "result = dict(zip(metrics, [[] for _ in range(len(metrics))]))\n",
        "for metric in metrics:\n",
        "    print(\"running KNN with {} distance metric\".format(metric))\n",
        "    for k in range(1, num_ks+1):\n",
        "        if k % print_k_interval==0:\n",
        "            print(\"    processing... k={:3d}\".format(k))\n",
        "        y_pred = model.inference(X_test, k=k, dist_metric=metric)\n",
        "        acc = model.evaluate(y_test, y_pred)\n",
        "        result[metric].append(acc)\n",
        "    print()"
      ]
    },
    {
      "cell_type": "code",
      "execution_count": null,
      "metadata": {
        "colab": {
          "base_uri": "https://localhost:8080/",
          "height": 443
        },
        "id": "Q47KrG6ch6MH",
        "outputId": "e57e86ca-040e-411e-86a7-e9139b32b750"
      },
      "outputs": [
        {
          "data": {
            "image/png": "[encoded data removed]",
            "text/plain": [
              "<Figure size 1000x500 with 1 Axes>"
            ]
          },
          "metadata": {},
          "output_type": "display_data"
        }
      ],
      "source": [
        "# Visualize the result\n",
        "fig = plt.figure(figsize=(10,5))\n",
        "ax = fig.add_subplot(1,1,1)\n",
        "\n",
        "x_axis = np.arange(1, num_ks+1, 1)\n",
        "for i, metric in enumerate(metrics):\n",
        "    ax.scatter(x_axis, result[metric], label = metric)\n",
        "\n",
        "ax.set(title=\"K-Nearest Neighbor Accuracies on different Ks\")\n",
        "ax.set(xlabel='K', ylabel='Accuracy')\n",
        "ax.set(xticks=np.arange(0, num_ks+1,5), yticks=np.arange(0.5,1.0,0.05))\n",
        "ax.legend()\n",
        "plt.show()"
      ]
    },
    {
      "cell_type": "code",
      "execution_count": null,
      "metadata": {
        "id": "6dbMIK5-WP3b"
      },
      "outputs": [],
      "source": [
        "###\n",
        "# Question (d)\n",
        "# Briefly report what you observe in the plot above.\n",
        "'''\n",
        "위 그래프는 k값에 따른 KNN 분류기의 정확도를 나타낸 것이다. 이 그래프를 통해 여러 특징을 관찰할 수 있었다.\n",
        "먼저, k가 증가함에 따라 Accuracy가 감소하는 것을 확인할 수 있다.\n",
        "또한, 서로 다른 거리 측정 방식('l2', 'dot', 'cos')을 사용하였을 때 분류기의 성능에 편차가 존재하는 것을 확인하였다.\n",
        "dot이나 cos 방식을 적용하였을 때보다 l2 distance를 사용하였을 때 분류기의 성능이 월등히 높은 것을 확인하였다.\n",
        "이러한 결과를 통해, KNN 분류기의 성능을 높이고자 할 때 결과를 시각화하면 최적의 K값과 거리 측정방식을 선택할 때\n",
        "도움이 된다는 것을 확인하였다.\n",
        "'''\n",
        "###"
      ]
    },
    {
      "cell_type": "markdown",
      "metadata": {
        "id": "QgIN5NRpF5OF"
      },
      "source": [
        "  Write your answer to (d) in this cell."
      ]
    },
    {
      "cell_type": "code",
      "execution_count": null,
      "metadata": {
        "id": "mjgeVV7ydJ5K"
      },
      "outputs": [],
      "source": [
        "###\n",
        "# Question (e)\n",
        "# In what kind of dataset dot product(not cosine similarity) will serve as a good metric?\n",
        "'''\n",
        "데이터 특성을 고려하여 매트틱을 선정해야 하는데, dot product의 경우 벡터의 정렬과 관련된 특성이 중요한 데이터에 적합하다.\n",
        "예를 들면, 먼저 자연어처리 분야에서 사용되는 텍스트 데이터의 경우 dot product를 통해 문서 간 유사도를 측정할 수 있다.\n",
        "비슷한 용어 사용 분포를 가진 문서는 더 높은 dot product 결과를 가질 것이다.\n",
        "또한, binary 데이터의 경우 dot product를 통해 데이터 포인트간 유사도를 측정할 수 있다. 여기서 binary 데이터란\n",
        "어떠한 특징의 유무, 예 아니오 등 2가지로 구분될 수 있는 데이터를 의미한다. 이러한 경우에 dot product로 일치하는 특징 수를 카운팅하면\n",
        "데이터 포인트 간 유사도를 측정할 수 있을 것이다\n",
        "'''\n",
        "###"
      ]
    },
    {
      "cell_type": "markdown",
      "metadata": {
        "id": "eCkBY-yHF_-U"
      },
      "source": [
        "  Write your answer to (e) in this cell."
      ]
    }
  ],
  "metadata": {
    "accelerator": "GPU",
    "colab": {
      "gpuType": "T4",
      "provenance": [],
      "include_colab_link": true
    },
    "kernelspec": {
      "display_name": "Python 3",
      "name": "python3"
    },
    "language_info": {
      "name": "python"
    }
  },
  "nbformat": 4,
  "nbformat_minor": 0
}